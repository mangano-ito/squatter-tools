{
 "cells": [
  {
   "cell_type": "code",
   "execution_count": 11,
   "metadata": {},
   "outputs": [
    {
     "data": {
      "application/vnd.jupyter.widget-view+json": {
       "model_id": "f2cd10020b6b4b1791acce0588ed3876",
       "version_major": 2,
       "version_minor": 0
      },
      "text/plain": [
       "FigureWidget({\n",
       "    'data': [{'type': 'scatter', 'uid': '1c932442-757f-4d33-a591-bf583ae02cad', 'xaxis': 'x', 'yaxis': 'y'},\n",
       "             {'type': 'scatter', 'uid': 'fe8ba813-169a-4171-aec0-4ebc372370ad', 'xaxis': 'x2', 'yaxis': 'y2'},\n",
       "             {'type': 'scatter', 'uid': 'cb93bf06-fc1e-4e9e-90e7-f0f686e6406a', 'xaxis': 'x3', 'yaxis': 'y3'}],\n",
       "    'layout': {'annotations': [{'font': {'size': 16},\n",
       "                                'showarrow': False,\n",
       "                                'text': 'x',\n",
       "                                'x': 0.5,\n",
       "                                'xanchor': 'center',\n",
       "                                'xref': 'paper',\n",
       "                                'y': 1.0,\n",
       "                                'yanchor': 'bottom',\n",
       "                                'yref': 'paper'},\n",
       "                               {'font': {'size': 16},\n",
       "                                'showarrow': False,\n",
       "                                'text': 'y',\n",
       "                                'x': 0.5,\n",
       "                                'xanchor': 'center',\n",
       "                                'xref': 'paper',\n",
       "                                'y': 0.6111111111111112,\n",
       "                                'yanchor': 'bottom',\n",
       "                                'yref': 'paper'},\n",
       "                               {'font': {'size': 16},\n",
       "                                'showarrow': False,\n",
       "                                'text': 'z',\n",
       "                                'x': 0.5,\n",
       "                                'xanchor': 'center',\n",
       "                                'xref': 'paper',\n",
       "                                'y': 0.22222222222222224,\n",
       "                                'yanchor': 'bottom',\n",
       "                                'yref': 'paper'}],\n",
       "               'template': '...',\n",
       "               'xaxis': {'anchor': 'y', 'domain': [0.0, 1.0], 'matches': 'x3', 'showticklabels': False},\n",
       "               'xaxis2': {'anchor': 'y2', 'domain': [0.0, 1.0], 'matches': 'x3', 'showticklabels': False},\n",
       "               'xaxis3': {'anchor': 'y3', 'domain': [0.0, 1.0]},\n",
       "               'yaxis': {'anchor': 'x', 'domain': [0.7777777777777778, 1.0], 'range': [-10, 10]},\n",
       "               'yaxis2': {'anchor': 'x2', 'domain': [0.3888888888888889, 0.6111111111111112], 'range': [-10, 10]},\n",
       "               'yaxis3': {'anchor': 'x3', 'domain': [0.0, 0.22222222222222224], 'range': [-10, 10]}}\n",
       "})"
      ]
     },
     "execution_count": 11,
     "metadata": {},
     "output_type": "execute_result"
    }
   ],
   "source": [
    "import plotly.graph_objects as go\n",
    "from plotly.subplots import make_subplots\n",
    "\n",
    "fig = go.FigureWidget(\n",
    "    make_subplots(\n",
    "        rows=3,\n",
    "        cols=1,\n",
    "        subplot_titles=(\"x\", \"y\", \"z\"),\n",
    "        shared_xaxes=True,\n",
    "        shared_yaxes=True,\n",
    "    ),\n",
    ")\n",
    "fig.add_trace(go.Scatter(), row=1, col=1)\n",
    "fig.add_trace(go.Scatter(), row=2, col=1)\n",
    "fig.add_trace(go.Scatter(), row=3, col=1)\n",
    "fig.update_yaxes(range=[-10, 10])\n",
    "\n",
    "fig"
   ]
  },
  {
   "cell_type": "code",
   "execution_count": 12,
   "metadata": {},
   "outputs": [
    {
     "ename": "CancelledError",
     "evalue": "",
     "output_type": "error",
     "traceback": [
      "\u001b[0;31m---------------------------------------------------------------------------\u001b[0m",
      "\u001b[0;31mCancelledError\u001b[0m                            Traceback (most recent call last)",
      "Cell \u001b[0;32mIn[12], line 37\u001b[0m\n\u001b[1;32m     34\u001b[0m         queue_append(y_buffer, y)\n\u001b[1;32m     35\u001b[0m         queue_append(z_buffer, z)\n\u001b[0;32m---> 37\u001b[0m \u001b[38;5;28;01mawait\u001b[39;00m asyncio\u001b[38;5;241m.\u001b[39mgather(listen(), loop())\n",
      "Cell \u001b[0;32mIn[12], line 28\u001b[0m, in \u001b[0;36mloop\u001b[0;34m()\u001b[0m\n\u001b[1;32m     26\u001b[0m \u001b[38;5;28;01mwhile\u001b[39;00m \u001b[38;5;28;01mTrue\u001b[39;00m:\n\u001b[1;32m     27\u001b[0m     update()\n\u001b[0;32m---> 28\u001b[0m     \u001b[38;5;28;01mawait\u001b[39;00m asyncio\u001b[38;5;241m.\u001b[39msleep(\u001b[38;5;241m0.1\u001b[39m)\n",
      "File \u001b[0;32m~/.rye/py/cpython@3.13.1/lib/python3.13/asyncio/tasks.py:718\u001b[0m, in \u001b[0;36msleep\u001b[0;34m(delay, result)\u001b[0m\n\u001b[1;32m    714\u001b[0m h \u001b[38;5;241m=\u001b[39m loop\u001b[38;5;241m.\u001b[39mcall_later(delay,\n\u001b[1;32m    715\u001b[0m                     futures\u001b[38;5;241m.\u001b[39m_set_result_unless_cancelled,\n\u001b[1;32m    716\u001b[0m                     future, result)\n\u001b[1;32m    717\u001b[0m \u001b[38;5;28;01mtry\u001b[39;00m:\n\u001b[0;32m--> 718\u001b[0m     \u001b[38;5;28;01mreturn\u001b[39;00m \u001b[38;5;28;01mawait\u001b[39;00m future\n\u001b[1;32m    719\u001b[0m \u001b[38;5;28;01mfinally\u001b[39;00m:\n\u001b[1;32m    720\u001b[0m     h\u001b[38;5;241m.\u001b[39mcancel()\n",
      "\u001b[0;31mCancelledError\u001b[0m: "
     ]
    }
   ],
   "source": [
    "import asyncio\n",
    "from numpy import array\n",
    "from src.squatter_tools.logcat import Logcat\n",
    "\n",
    "logcat = Logcat()\n",
    "size = 256\n",
    "t_buffer = array(range(0, size))\n",
    "x_buffer = array([0.0] * size)\n",
    "y_buffer = array([0.0] * size)\n",
    "z_buffer = array([0.0] * size)\n",
    "\n",
    "def queue_append(array, value):\n",
    "    array[:-1] = array[1:]\n",
    "    array[-1] = value\n",
    "    return array\n",
    "\n",
    "def update():\n",
    "    fig.data[0].x = t_buffer\n",
    "    fig.data[0].y = x_buffer\n",
    "    fig.data[1].x = t_buffer\n",
    "    fig.data[1].y = y_buffer\n",
    "    fig.data[2].x = t_buffer\n",
    "    fig.data[2].y = z_buffer\n",
    "\n",
    "async def loop():\n",
    "    while True:\n",
    "        update()\n",
    "        await asyncio.sleep(0.1)\n",
    "\n",
    "async def listen():\n",
    "    await logcat.open()\n",
    "    async for (x, y, z) in logcat.listen():\n",
    "        queue_append(x_buffer, x)\n",
    "        queue_append(y_buffer, y)\n",
    "        queue_append(z_buffer, z)\n",
    "\n",
    "await asyncio.gather(listen(), loop())"
   ]
  }
 ],
 "metadata": {
  "kernelspec": {
   "display_name": ".venv",
   "language": "python",
   "name": "python3"
  },
  "language_info": {
   "codemirror_mode": {
    "name": "ipython",
    "version": 3
   },
   "file_extension": ".py",
   "mimetype": "text/x-python",
   "name": "python",
   "nbconvert_exporter": "python",
   "pygments_lexer": "ipython3",
   "version": "3.13.1"
  }
 },
 "nbformat": 4,
 "nbformat_minor": 2
}
