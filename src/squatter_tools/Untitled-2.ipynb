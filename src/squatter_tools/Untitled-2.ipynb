{
 "cells": [
  {
   "cell_type": "code",
   "execution_count": 9,
   "metadata": {},
   "outputs": [
    {
     "data": {
      "application/vnd.jupyter.widget-view+json": {
       "model_id": "ccb554d675a34e8b9ede4ac14b1efb2c",
       "version_major": 2,
       "version_minor": 0
      },
      "text/plain": [
       "FigureWidget({\n",
       "    'data': [{'type': 'scatter', 'uid': '1380d5e1-3d49-473d-9bb3-d49fdb3bf91e', 'xaxis': 'x', 'yaxis': 'y'}],\n",
       "    'layout': {'annotations': [{'font': {'size': 16},\n",
       "                                'showarrow': False,\n",
       "                                'text': 'a',\n",
       "                                'x': 0.5,\n",
       "                                'xanchor': 'center',\n",
       "                                'xref': 'paper',\n",
       "                                'y': 1.0,\n",
       "                                'yanchor': 'bottom',\n",
       "                                'yref': 'paper'}],\n",
       "               'template': '...',\n",
       "               'xaxis': {'anchor': 'y', 'domain': [0.0, 1.0]},\n",
       "               'yaxis': {'anchor': 'x', 'domain': [0.0, 1.0], 'range': [-10, 10]}}\n",
       "})"
      ]
     },
     "execution_count": 9,
     "metadata": {},
     "output_type": "execute_result"
    }
   ],
   "source": [
    "import plotly.graph_objects as go\n",
    "from plotly.subplots import make_subplots\n",
    "\n",
    "fig = go.FigureWidget(\n",
    "    make_subplots(\n",
    "        rows=1,\n",
    "        cols=1,\n",
    "        subplot_titles=(\"a\"),\n",
    "        shared_xaxes=True,\n",
    "        shared_yaxes=True,\n",
    "    ),\n",
    ")\n",
    "fig.add_trace(go.Scatter(), row=1, col=1)\n",
    "fig.update_yaxes(range=[-10, 10])\n",
    "\n",
    "fig"
   ]
  },
  {
   "cell_type": "code",
   "execution_count": null,
   "metadata": {},
   "outputs": [],
   "source": [
    "import asyncio\n",
    "from numpy import array\n",
    "from src.squatter_tools.logcat import Logcat\n",
    "\n",
    "logcat = Logcat()\n",
    "size = 128\n",
    "t_buffer = array(range(0, size))\n",
    "a_buffer = array([0.0] * size)\n",
    "\n",
    "def queue_append(array, value):\n",
    "    array[:-1] = array[1:]\n",
    "    array[-1] = value\n",
    "    return array\n",
    "\n",
    "def update():\n",
    "    fig.data[0].x = t_buffer\n",
    "    fig.data[0].y = a_buffer\n",
    "\n",
    "async def loop():\n",
    "    while True:\n",
    "        update()\n",
    "        await asyncio.sleep(0.1)\n",
    "\n",
    "async def listen():\n",
    "    await logcat.open()\n",
    "    async for a in logcat.listen_a():\n",
    "        queue_append(a_buffer, a)\n",
    "\n",
    "await asyncio.gather(listen(), loop())"
   ]
  }
 ],
 "metadata": {
  "kernelspec": {
   "display_name": ".venv",
   "language": "python",
   "name": "python3"
  },
  "language_info": {
   "codemirror_mode": {
    "name": "ipython",
    "version": 3
   },
   "file_extension": ".py",
   "mimetype": "text/x-python",
   "name": "python",
   "nbconvert_exporter": "python",
   "pygments_lexer": "ipython3",
   "version": "3.13.1"
  }
 },
 "nbformat": 4,
 "nbformat_minor": 2
}
